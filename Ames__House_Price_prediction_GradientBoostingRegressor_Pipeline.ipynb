{
  "nbformat": 4,
  "nbformat_minor": 0,
  "metadata": {
    "colab": {
      "name": "Ames__House_Price_prediction_GradientBoostingRegressor_Pipeline.ipynb",
      "provenance": [],
      "collapsed_sections": []
    },
    "kernelspec": {
      "name": "python3",
      "display_name": "Python 3"
    },
    "language_info": {
      "name": "python"
    }
  },
  "cells": [
    {
      "cell_type": "markdown",
      "metadata": {
        "id": "qQi8ibrUcqki"
      },
      "source": [
        "\n",
        "## **Ames House Price Prediction using Pipelines**\n",
        "\n",
        "\n",
        "### **Introduction**\n",
        "\n",
        "The goal of this project is to build model pipelines to be used for predicting the price of a home in Ames, Iowa. Gradient Boosting algorithms (GradientBoostingRegressor and XGBRegressor) and neural network algorithm will be used.\n",
        "\n",
        "\n",
        "\n",
        "\n",
        "\n"
      ]
    },
    {
      "cell_type": "code",
      "metadata": {
        "id": "AbrQ3QmxEBzN"
      },
      "source": [
        "#pip install xgboost"
      ],
      "execution_count": 1,
      "outputs": []
    },
    {
      "cell_type": "code",
      "metadata": {
        "id": "Fcj3ys8ICqOL"
      },
      "source": [
        "import numpy as np\n",
        "import pandas as pd\n",
        "import time\n",
        "from scipy.stats import skew\n",
        "from sklearn.preprocessing import LabelEncoder\n",
        "from sklearn.preprocessing import StandardScaler\n",
        "from sklearn.model_selection import train_test_split\n",
        "from sklearn.neural_network import MLPRegressor\n",
        "from sklearn.ensemble import GradientBoostingRegressor\n",
        "from sklearn.base import BaseEstimator, TransformerMixin\n",
        "from xgboost import XGBRegressor\n",
        "from sklearn.pipeline import Pipeline\n",
        "from sklearn.metrics import mean_squared_error\n",
        "\n",
        "import warnings\n",
        "warnings.filterwarnings('ignore')"
      ],
      "execution_count": 2,
      "outputs": []
    },
    {
      "cell_type": "code",
      "metadata": {
        "id": "DsMGQyrHjvdP"
      },
      "source": [
        "pd.set_option('display.max_rows', 1000)\n",
        "pd.set_option('display.max_columns', 1000)"
      ],
      "execution_count": 3,
      "outputs": []
    },
    {
      "cell_type": "code",
      "metadata": {
        "id": "BNa71gX8DCKi"
      },
      "source": [
        "train= pd.read_csv('train.csv')\n",
        "test = pd.read_csv('test.csv')"
      ],
      "execution_count": 4,
      "outputs": []
    },
    {
      "cell_type": "code",
      "metadata": {
        "colab": {
          "base_uri": "https://localhost:8080/",
          "height": 132
        },
        "id": "Ou7M4Q2dDcOt",
        "outputId": "9cc43d95-5df9-4330-ca1b-623cd86d4041"
      },
      "source": [
        "train.head(2)"
      ],
      "execution_count": 5,
      "outputs": [
        {
          "output_type": "execute_result",
          "data": {
            "text/html": [
              "<div>\n",
              "<style scoped>\n",
              "    .dataframe tbody tr th:only-of-type {\n",
              "        vertical-align: middle;\n",
              "    }\n",
              "\n",
              "    .dataframe tbody tr th {\n",
              "        vertical-align: top;\n",
              "    }\n",
              "\n",
              "    .dataframe thead th {\n",
              "        text-align: right;\n",
              "    }\n",
              "</style>\n",
              "<table border=\"1\" class=\"dataframe\">\n",
              "  <thead>\n",
              "    <tr style=\"text-align: right;\">\n",
              "      <th></th>\n",
              "      <th>Id</th>\n",
              "      <th>MSSubClass</th>\n",
              "      <th>MSZoning</th>\n",
              "      <th>LotFrontage</th>\n",
              "      <th>LotArea</th>\n",
              "      <th>Street</th>\n",
              "      <th>Alley</th>\n",
              "      <th>LotShape</th>\n",
              "      <th>LandContour</th>\n",
              "      <th>Utilities</th>\n",
              "      <th>LotConfig</th>\n",
              "      <th>LandSlope</th>\n",
              "      <th>Neighborhood</th>\n",
              "      <th>Condition1</th>\n",
              "      <th>Condition2</th>\n",
              "      <th>BldgType</th>\n",
              "      <th>HouseStyle</th>\n",
              "      <th>OverallQual</th>\n",
              "      <th>OverallCond</th>\n",
              "      <th>YearBuilt</th>\n",
              "      <th>YearRemodAdd</th>\n",
              "      <th>RoofStyle</th>\n",
              "      <th>RoofMatl</th>\n",
              "      <th>Exterior1st</th>\n",
              "      <th>Exterior2nd</th>\n",
              "      <th>MasVnrType</th>\n",
              "      <th>MasVnrArea</th>\n",
              "      <th>ExterQual</th>\n",
              "      <th>ExterCond</th>\n",
              "      <th>Foundation</th>\n",
              "      <th>BsmtQual</th>\n",
              "      <th>BsmtCond</th>\n",
              "      <th>BsmtExposure</th>\n",
              "      <th>BsmtFinType1</th>\n",
              "      <th>BsmtFinSF1</th>\n",
              "      <th>BsmtFinType2</th>\n",
              "      <th>BsmtFinSF2</th>\n",
              "      <th>BsmtUnfSF</th>\n",
              "      <th>TotalBsmtSF</th>\n",
              "      <th>Heating</th>\n",
              "      <th>HeatingQC</th>\n",
              "      <th>CentralAir</th>\n",
              "      <th>Electrical</th>\n",
              "      <th>1stFlrSF</th>\n",
              "      <th>2ndFlrSF</th>\n",
              "      <th>LowQualFinSF</th>\n",
              "      <th>GrLivArea</th>\n",
              "      <th>BsmtFullBath</th>\n",
              "      <th>BsmtHalfBath</th>\n",
              "      <th>FullBath</th>\n",
              "      <th>HalfBath</th>\n",
              "      <th>BedroomAbvGr</th>\n",
              "      <th>KitchenAbvGr</th>\n",
              "      <th>KitchenQual</th>\n",
              "      <th>TotRmsAbvGrd</th>\n",
              "      <th>Functional</th>\n",
              "      <th>Fireplaces</th>\n",
              "      <th>FireplaceQu</th>\n",
              "      <th>GarageType</th>\n",
              "      <th>GarageYrBlt</th>\n",
              "      <th>GarageFinish</th>\n",
              "      <th>GarageCars</th>\n",
              "      <th>GarageArea</th>\n",
              "      <th>GarageQual</th>\n",
              "      <th>GarageCond</th>\n",
              "      <th>PavedDrive</th>\n",
              "      <th>WoodDeckSF</th>\n",
              "      <th>OpenPorchSF</th>\n",
              "      <th>EnclosedPorch</th>\n",
              "      <th>3SsnPorch</th>\n",
              "      <th>ScreenPorch</th>\n",
              "      <th>PoolArea</th>\n",
              "      <th>PoolQC</th>\n",
              "      <th>Fence</th>\n",
              "      <th>MiscFeature</th>\n",
              "      <th>MiscVal</th>\n",
              "      <th>MoSold</th>\n",
              "      <th>YrSold</th>\n",
              "      <th>SaleType</th>\n",
              "      <th>SaleCondition</th>\n",
              "      <th>SalePrice</th>\n",
              "    </tr>\n",
              "  </thead>\n",
              "  <tbody>\n",
              "    <tr>\n",
              "      <th>0</th>\n",
              "      <td>1</td>\n",
              "      <td>60</td>\n",
              "      <td>RL</td>\n",
              "      <td>65.0</td>\n",
              "      <td>8450</td>\n",
              "      <td>Pave</td>\n",
              "      <td>NaN</td>\n",
              "      <td>Reg</td>\n",
              "      <td>Lvl</td>\n",
              "      <td>AllPub</td>\n",
              "      <td>Inside</td>\n",
              "      <td>Gtl</td>\n",
              "      <td>CollgCr</td>\n",
              "      <td>Norm</td>\n",
              "      <td>Norm</td>\n",
              "      <td>1Fam</td>\n",
              "      <td>2Story</td>\n",
              "      <td>7</td>\n",
              "      <td>5</td>\n",
              "      <td>2003</td>\n",
              "      <td>2003</td>\n",
              "      <td>Gable</td>\n",
              "      <td>CompShg</td>\n",
              "      <td>VinylSd</td>\n",
              "      <td>VinylSd</td>\n",
              "      <td>BrkFace</td>\n",
              "      <td>196.0</td>\n",
              "      <td>Gd</td>\n",
              "      <td>TA</td>\n",
              "      <td>PConc</td>\n",
              "      <td>Gd</td>\n",
              "      <td>TA</td>\n",
              "      <td>No</td>\n",
              "      <td>GLQ</td>\n",
              "      <td>706</td>\n",
              "      <td>Unf</td>\n",
              "      <td>0</td>\n",
              "      <td>150</td>\n",
              "      <td>856</td>\n",
              "      <td>GasA</td>\n",
              "      <td>Ex</td>\n",
              "      <td>Y</td>\n",
              "      <td>SBrkr</td>\n",
              "      <td>856</td>\n",
              "      <td>854</td>\n",
              "      <td>0</td>\n",
              "      <td>1710</td>\n",
              "      <td>1</td>\n",
              "      <td>0</td>\n",
              "      <td>2</td>\n",
              "      <td>1</td>\n",
              "      <td>3</td>\n",
              "      <td>1</td>\n",
              "      <td>Gd</td>\n",
              "      <td>8</td>\n",
              "      <td>Typ</td>\n",
              "      <td>0</td>\n",
              "      <td>NaN</td>\n",
              "      <td>Attchd</td>\n",
              "      <td>2003.0</td>\n",
              "      <td>RFn</td>\n",
              "      <td>2</td>\n",
              "      <td>548</td>\n",
              "      <td>TA</td>\n",
              "      <td>TA</td>\n",
              "      <td>Y</td>\n",
              "      <td>0</td>\n",
              "      <td>61</td>\n",
              "      <td>0</td>\n",
              "      <td>0</td>\n",
              "      <td>0</td>\n",
              "      <td>0</td>\n",
              "      <td>NaN</td>\n",
              "      <td>NaN</td>\n",
              "      <td>NaN</td>\n",
              "      <td>0</td>\n",
              "      <td>2</td>\n",
              "      <td>2008</td>\n",
              "      <td>WD</td>\n",
              "      <td>Normal</td>\n",
              "      <td>208500</td>\n",
              "    </tr>\n",
              "    <tr>\n",
              "      <th>1</th>\n",
              "      <td>2</td>\n",
              "      <td>20</td>\n",
              "      <td>RL</td>\n",
              "      <td>80.0</td>\n",
              "      <td>9600</td>\n",
              "      <td>Pave</td>\n",
              "      <td>NaN</td>\n",
              "      <td>Reg</td>\n",
              "      <td>Lvl</td>\n",
              "      <td>AllPub</td>\n",
              "      <td>FR2</td>\n",
              "      <td>Gtl</td>\n",
              "      <td>Veenker</td>\n",
              "      <td>Feedr</td>\n",
              "      <td>Norm</td>\n",
              "      <td>1Fam</td>\n",
              "      <td>1Story</td>\n",
              "      <td>6</td>\n",
              "      <td>8</td>\n",
              "      <td>1976</td>\n",
              "      <td>1976</td>\n",
              "      <td>Gable</td>\n",
              "      <td>CompShg</td>\n",
              "      <td>MetalSd</td>\n",
              "      <td>MetalSd</td>\n",
              "      <td>None</td>\n",
              "      <td>0.0</td>\n",
              "      <td>TA</td>\n",
              "      <td>TA</td>\n",
              "      <td>CBlock</td>\n",
              "      <td>Gd</td>\n",
              "      <td>TA</td>\n",
              "      <td>Gd</td>\n",
              "      <td>ALQ</td>\n",
              "      <td>978</td>\n",
              "      <td>Unf</td>\n",
              "      <td>0</td>\n",
              "      <td>284</td>\n",
              "      <td>1262</td>\n",
              "      <td>GasA</td>\n",
              "      <td>Ex</td>\n",
              "      <td>Y</td>\n",
              "      <td>SBrkr</td>\n",
              "      <td>1262</td>\n",
              "      <td>0</td>\n",
              "      <td>0</td>\n",
              "      <td>1262</td>\n",
              "      <td>0</td>\n",
              "      <td>1</td>\n",
              "      <td>2</td>\n",
              "      <td>0</td>\n",
              "      <td>3</td>\n",
              "      <td>1</td>\n",
              "      <td>TA</td>\n",
              "      <td>6</td>\n",
              "      <td>Typ</td>\n",
              "      <td>1</td>\n",
              "      <td>TA</td>\n",
              "      <td>Attchd</td>\n",
              "      <td>1976.0</td>\n",
              "      <td>RFn</td>\n",
              "      <td>2</td>\n",
              "      <td>460</td>\n",
              "      <td>TA</td>\n",
              "      <td>TA</td>\n",
              "      <td>Y</td>\n",
              "      <td>298</td>\n",
              "      <td>0</td>\n",
              "      <td>0</td>\n",
              "      <td>0</td>\n",
              "      <td>0</td>\n",
              "      <td>0</td>\n",
              "      <td>NaN</td>\n",
              "      <td>NaN</td>\n",
              "      <td>NaN</td>\n",
              "      <td>0</td>\n",
              "      <td>5</td>\n",
              "      <td>2007</td>\n",
              "      <td>WD</td>\n",
              "      <td>Normal</td>\n",
              "      <td>181500</td>\n",
              "    </tr>\n",
              "  </tbody>\n",
              "</table>\n",
              "</div>"
            ],
            "text/plain": [
              "   Id  MSSubClass MSZoning  LotFrontage  LotArea Street Alley LotShape  \\\n",
              "0   1          60       RL         65.0     8450   Pave   NaN      Reg   \n",
              "1   2          20       RL         80.0     9600   Pave   NaN      Reg   \n",
              "\n",
              "  LandContour Utilities LotConfig LandSlope Neighborhood Condition1  \\\n",
              "0         Lvl    AllPub    Inside       Gtl      CollgCr       Norm   \n",
              "1         Lvl    AllPub       FR2       Gtl      Veenker      Feedr   \n",
              "\n",
              "  Condition2 BldgType HouseStyle  OverallQual  OverallCond  YearBuilt  \\\n",
              "0       Norm     1Fam     2Story            7            5       2003   \n",
              "1       Norm     1Fam     1Story            6            8       1976   \n",
              "\n",
              "   YearRemodAdd RoofStyle RoofMatl Exterior1st Exterior2nd MasVnrType  \\\n",
              "0          2003     Gable  CompShg     VinylSd     VinylSd    BrkFace   \n",
              "1          1976     Gable  CompShg     MetalSd     MetalSd       None   \n",
              "\n",
              "   MasVnrArea ExterQual ExterCond Foundation BsmtQual BsmtCond BsmtExposure  \\\n",
              "0       196.0        Gd        TA      PConc       Gd       TA           No   \n",
              "1         0.0        TA        TA     CBlock       Gd       TA           Gd   \n",
              "\n",
              "  BsmtFinType1  BsmtFinSF1 BsmtFinType2  BsmtFinSF2  BsmtUnfSF  TotalBsmtSF  \\\n",
              "0          GLQ         706          Unf           0        150          856   \n",
              "1          ALQ         978          Unf           0        284         1262   \n",
              "\n",
              "  Heating HeatingQC CentralAir Electrical  1stFlrSF  2ndFlrSF  LowQualFinSF  \\\n",
              "0    GasA        Ex          Y      SBrkr       856       854             0   \n",
              "1    GasA        Ex          Y      SBrkr      1262         0             0   \n",
              "\n",
              "   GrLivArea  BsmtFullBath  BsmtHalfBath  FullBath  HalfBath  BedroomAbvGr  \\\n",
              "0       1710             1             0         2         1             3   \n",
              "1       1262             0             1         2         0             3   \n",
              "\n",
              "   KitchenAbvGr KitchenQual  TotRmsAbvGrd Functional  Fireplaces FireplaceQu  \\\n",
              "0             1          Gd             8        Typ           0         NaN   \n",
              "1             1          TA             6        Typ           1          TA   \n",
              "\n",
              "  GarageType  GarageYrBlt GarageFinish  GarageCars  GarageArea GarageQual  \\\n",
              "0     Attchd       2003.0          RFn           2         548         TA   \n",
              "1     Attchd       1976.0          RFn           2         460         TA   \n",
              "\n",
              "  GarageCond PavedDrive  WoodDeckSF  OpenPorchSF  EnclosedPorch  3SsnPorch  \\\n",
              "0         TA          Y           0           61              0          0   \n",
              "1         TA          Y         298            0              0          0   \n",
              "\n",
              "   ScreenPorch  PoolArea PoolQC Fence MiscFeature  MiscVal  MoSold  YrSold  \\\n",
              "0            0         0    NaN   NaN         NaN        0       2    2008   \n",
              "1            0         0    NaN   NaN         NaN        0       5    2007   \n",
              "\n",
              "  SaleType SaleCondition  SalePrice  \n",
              "0       WD        Normal     208500  \n",
              "1       WD        Normal     181500  "
            ]
          },
          "metadata": {},
          "execution_count": 5
        }
      ]
    },
    {
      "cell_type": "code",
      "metadata": {
        "colab": {
          "base_uri": "https://localhost:8080/"
        },
        "id": "ELc8orxBpKF4",
        "outputId": "03c250c1-d8dc-43de-de90-e32101bdba8c"
      },
      "source": [
        "train_num= train.select_dtypes(exclude=['object']).drop(['Id', 'MSSubClass'], axis= 1)\n",
        "\n",
        "train_cat= train.select_dtypes(include=['object'])\n",
        "train_cat['MSSubClass']= train['MSSubClass'].astype(str)\n",
        "\n",
        "print('The train set has', train_num.shape[1], 'numeric variables and', train_cat.shape[1], 'categorical variables')"
      ],
      "execution_count": 6,
      "outputs": [
        {
          "output_type": "stream",
          "name": "stdout",
          "text": [
            "The train set has 36 numeric variables and 44 categorical variables\n"
          ]
        }
      ]
    },
    {
      "cell_type": "code",
      "metadata": {
        "colab": {
          "base_uri": "https://localhost:8080/"
        },
        "id": "U9fXnU_Npv8i",
        "outputId": "318a037e-62d0-4513-e9c7-1f67b1a1b2e0"
      },
      "source": [
        "missing_values = train.isnull().sum()/len(train) * 100\n",
        "missing_values = missing_values[missing_values > 0]\n",
        "print('The dataset contains missing values in', missing_values.count(), 'variables')"
      ],
      "execution_count": 7,
      "outputs": [
        {
          "output_type": "stream",
          "name": "stdout",
          "text": [
            "The dataset contains missing values in 19 variables\n"
          ]
        }
      ]
    },
    {
      "cell_type": "markdown",
      "metadata": {
        "id": "GVmjWBnaAYPH"
      },
      "source": [
        "#### **Exploratory Data Analysis**\n",
        "\n",
        "This is a continuation of an earlier project, where exploratory data analysis was conducted and can be found [here](https://github.com/adeyinkaoresanya/Ames-House_Price-Regression-Model/blob/main/Ames_HousePrice_prediction_EDA_FeatureEngineering.ipynb)\n",
        "\n"
      ]
    },
    {
      "cell_type": "markdown",
      "metadata": {
        "id": "4qMNkoJlcdPy"
      },
      "source": [
        "#### **Building Pipelines for Preprocessing and modelling**\n",
        "\n",
        "Due to the fact that the dataset contains a lot of missing values and categorical variables, there is a need to build custom transformers and integrate it with existing Scikit-Learn pipeline for building the models. These transformer classes will be built on top of Scikit-Learn base classes, BaseEstimator and TransformerMixin.\n"
      ]
    },
    {
      "cell_type": "code",
      "metadata": {
        "id": "KK_8nX39zVK-"
      },
      "source": [
        "class TransformColumns(BaseEstimator, TransformerMixin):\n",
        "  \n",
        "  def __init__(self, transform_ordcols = True):\n",
        "    self.transform_ordcols = transform_ordcols\n",
        "\n",
        "  def fit(self, X, y=None):\n",
        "    return self\n",
        "    \n",
        "  def transform(self, X, y=None):\n",
        "    \"\"\"\n",
        "    Transforms ordinal features to discrete values\n",
        "    \n",
        "    Returns:\n",
        "            X: the modified dataset      \n",
        "    \"\"\"\n",
        "    if self.transform_ordcols:\n",
        "      X['LotShape'] = X['LotShape'].replace({'Reg': 3, 'IR1': 2, 'IR2': 2, 'IR3': 1})\n",
        "      X['Utilities'] = X['Utilities'].replace({'AllPub': 2, 'NoSeWa': 1})\n",
        "      X['LandSlope'] = X['LandSlope'].replace({'Gtl': 3, 'Mod': 2, 'Sev': 1})\n",
        "      X['ExterQual'] = X['ExterQual'].replace({'Gd': 3, 'TA': 2, 'Ex': 4, 'Fa': 1})\n",
        "      X['BsmtQual'] = X['BsmtQual'].replace({'Gd': 3, 'TA': 2, 'Ex': 4, 'Fa': 1})\n",
        "      X['BsmtCond'] = X['BsmtCond'].replace({'TA':3, 'Gd':4, 'Fa':2, 'Po': 1})\n",
        "      X['BsmtExposure'] = X['BsmtExposure'].replace({'No': 1,  'Gd': 4, 'Mn': 2, 'Av': 3})\n",
        "      X['BsmtFinType1'] = X['BsmtFinType1'].replace({'GLQ': 3, 'ALQ': 2,  'Unf': 1, 'Rec': 2, 'BLQ': 1, 'LwQ': 1})\n",
        "      X['BsmtFinType2'] = X['BsmtFinType2'].replace({'GLQ': 3, 'ALQ': 2,  'Unf': 1, 'Rec': 2, 'BLQ': 1, 'LwQ': 1})\n",
        "      X['HeatingQC'] = X['HeatingQC'].replace({'Ex': 5, 'Gd': 4, 'TA': 3, 'Fa': 2, 'Po': 1})\n",
        "      X['Electrical'] = X['Electrical'].replace({'SBrkr': 4, 'FuseF': 2, 'FuseA': 3, 'FuseP': 1, 'Mix': 3 })\n",
        "      X['KitchenQual'] = X['KitchenQual'].replace({'Gd':3, 'TA': 2, 'Ex': 4, 'Fa': 1})\n",
        "      X['Functional'] = X['Functional'].replace({'Typ': 4, 'Min1': 3, 'Maj1': 2, 'Min2': 3,  'Mod': 3, 'Maj2': 2, 'Sev': 1})\n",
        "      X['FireplaceQu'] = X['FireplaceQu'].replace({'TA': 2, 'Gd': 3, 'Fa': 2, 'Ex': 4,  'Po': 1})\n",
        "\n",
        "      X['GarageType'] = X['GarageType'].replace({'Attchd':2, 'Detchd': 1, 'BuiltIn': 2, 'CarPort': 1, 'Basment': 2, '2Types': 2})\n",
        "\n",
        "      X['GarageFinish'] = X['GarageFinish'].replace({'RFn':2,  'Unf':1, 'Fin': 3})\n",
        "\n",
        "      X['GarageQual'] = X['GarageQual'].replace({'TA': 3, 'Fa': 2, 'Gd': 4, 'Ex': 5, 'Po': 1})\n",
        "      X['GarageCond'] = X['GarageCond'].replace({'TA': 3, 'Fa': 2, 'Gd': 4, 'Ex': 5, 'Po': 1})\n",
        "      X['PavedDrive'] = X['PavedDrive'].replace({'Y': 3, 'N': 1, 'P': 2})\n",
        "      X['PoolQC'] = X['PoolQC'].replace({'Ex':3, 'Fa': 2, 'Gd':1})\n",
        "      X['Fence'] = X['Fence'].replace({'MnPrv': 3, 'GdWo':2, 'GdPrv': 4, 'MnWw': 1})\n",
        "      X['CentralAir'] = X['CentralAir'].replace({'Y': 1, 'N': 0})\n",
        "      X['ExterCond'] = X['ExterCond'].replace({'TA': 3, 'Gd': 4, 'Fa': 2, 'Ex': 5, 'Po': 1})\n",
        "      return X\n",
        "\n"
      ],
      "execution_count": 8,
      "outputs": []
    },
    {
      "cell_type": "code",
      "metadata": {
        "id": "7lv05yWIftcl"
      },
      "source": [
        "class InputMissing(BaseEstimator, TransformerMixin):\n",
        "  def __init__(self, input_missingsvals = True):\n",
        "    self.input_missingsvals = input_missingsvals\n",
        "\n",
        "  def fit(self, X, y=None):\n",
        "    return self\n",
        "    \n",
        "  def transform(self, X, y=None):\n",
        "    \"\"\"\n",
        "    Inputes missing values\n",
        "    \n",
        "    Returns:\n",
        "            X: the modified dataset      \n",
        "    \"\"\"\n",
        "    if self.input_missingsvals:\n",
        "      X['LotFrontage'] = X['LotFrontage'].fillna(X['LotFrontage'].median())\n",
        "      X['MasVnrArea'] = X['MasVnrArea'].fillna(X['MasVnrArea'].median())\n",
        "      X['GarageYrBlt'] = X['GarageYrBlt'].fillna(0)\n",
        "      X['MasVnrType'] = X['MasVnrType'].fillna(X['MasVnrType'].mode()[0])\n",
        "      ordinal_cat_features= ['LotShape', 'Utilities','LandSlope','ExterQual','BsmtQual', 'BsmtCond', 'BsmtExposure','BsmtFinType1', \n",
        "                       'BsmtFinType2','HeatingQC', 'Electrical', 'KitchenQual','Functional', 'FireplaceQu',\n",
        "                       'GarageType', 'GarageFinish', 'GarageQual','GarageCond', 'PavedDrive', 'PoolQC', 'Fence', 'CentralAir', 'ExterCond']\n",
        "\n",
        "      X[ordinal_cat_features]= X[ordinal_cat_features].fillna(0)\n",
        "    return X"
      ],
      "execution_count": 9,
      "outputs": []
    },
    {
      "cell_type": "code",
      "metadata": {
        "id": "7_9FNPC531Dw"
      },
      "source": [
        "class GenerateFeatures(BaseEstimator, TransformerMixin):\n",
        "  def __init__(self, add_features = True):\n",
        "    self.add_features = add_features\n",
        "\n",
        "  def fit(self, X, y=None):\n",
        "    return self\n",
        "    \n",
        "  def transform(self, X, y=None):\n",
        "    \"\"\"\n",
        "    Generates new features\n",
        "    \n",
        "    Returns:\n",
        "            X: the modified dataset      \n",
        "    \"\"\"\n",
        "    if self.add_features:\n",
        "      X[\"LivLotRatio\"] = X[\"GrLivArea\"] / X[\"LotArea\"]\n",
        "      X[\"Spaciousness\"] = (X[\"1stFlrSF\"] + X[\"2ndFlrSF\"]) / X[\"TotRmsAbvGrd\"]\n",
        "      X[\"TotalOutsideSF\"] = X['WoodDeckSF'] + X['OpenPorchSF'] + X['EnclosedPorch'] + X[\"3SsnPorch\"] + X[\"ScreenPorch\"]\n",
        "      X[\"PorchCount\"] = X[[\"WoodDeckSF\", \"OpenPorchSF\", \"EnclosedPorch\", \"3SsnPorch\", \"ScreenPorch\"]].gt(0.0).sum(axis=1)\n",
        "\n",
        "      X[\"OverallGrade\"] = X[\"OverallQual\"] * X[\"OverallCond\"]\n",
        "      X[\"GarageGrade\"] = X[\"GarageQual\"]* X[\"GarageCond\"]\n",
        "      X[\"ExterGrade\"] = X[\"ExterQual\"] * X[\"ExterCond\"]\n",
        "      X[\"KitchenGrade\"] = X[\"KitchenAbvGr\"] * X[\"KitchenQual\"]\n",
        "      X[\"FireplaceGrade\"] = X[\"Fireplaces\"] * X[\"FireplaceQu\"]\n",
        "      X[\"GarageGrade\"] = X[\"GarageArea\"] * X[\"GarageQual\"]\n",
        "      X[\"GarageScore\"] = X[\"GarageArea\"] * X[\"GarageQual\"]\n",
        "      X[\"TotalBath\"] = X[\"BsmtFullBath\"] + (0.5 * X[\"BsmtHalfBath\"]) + X[\"FullBath\"] + (0.5 * X[\"HalfBath\"])\n",
        "      X[\"AllSF\"] = X[\"GrLivArea\"] + X[\"TotalBsmtSF\"]\n",
        "      X[\"house_age\"] = X[\"YearBuilt\"].apply(lambda x: pd.datetime.now().year - x)\n",
        "      X[\"no_years_since_sold\"] = X[\"YrSold\"].apply(lambda x: pd.datetime.now().year - x)\n",
        "      BldgType_dummy = pd.get_dummies(X.BldgType, prefix=\"Bldg\")\n",
        "      new_features1 = BldgType_dummy.mul(X.GrLivArea, axis=0)\n",
        "      X[\"RecentRemodLargeBsmt\"] = X.YearRemodAdd * X.TotalBsmtSF\n",
        "      new_features2= pd.DataFrame()\n",
        "      new_features2[\"Median_neigh_area\"] = X.groupby(\"Neighborhood\")[\"GrLivArea\"].transform(\"median\")\n",
        "      X = X.join([new_features1, new_features2])\n",
        "    return X"
      ],
      "execution_count": 10,
      "outputs": []
    },
    {
      "cell_type": "code",
      "metadata": {
        "id": "nAQDbvFc_T_7"
      },
      "source": [
        "class RemoveSkewness(BaseEstimator, TransformerMixin):\n",
        "  def __init__(self):\n",
        "    pass\n",
        "\n",
        "  def fit(self, X, y=None):\n",
        "    return self\n",
        "    \n",
        "  def transform(self, X, y=None):\n",
        "    \"\"\"\n",
        "    Eliminates skewness from the skewed features\n",
        "    \n",
        "    Returns:\n",
        "            X: the modified dataset      \n",
        "    \"\"\"\n",
        "    X_numeric= X.select_dtypes(exclude=['object']).drop(['Id'], axis= 1)\n",
        "    skewness = X_numeric.apply(lambda x: skew(x))\n",
        "    skewness = skewness[abs(skewness) > 0.5]\n",
        "    skewed_features = skewness.index\n",
        "    X[skewed_features] = np.log1p(X[skewed_features])\n",
        "    return X"
      ],
      "execution_count": 11,
      "outputs": []
    },
    {
      "cell_type": "code",
      "metadata": {
        "id": "npnMTA-A_FtY"
      },
      "source": [
        "class LabelEncode(BaseEstimator, TransformerMixin):\n",
        "  def __init__(self):\n",
        "    pass\n",
        "\n",
        "  def fit(self, X, y=None):\n",
        "    return self\n",
        "    \n",
        "  def transform(self, X, y=None):\n",
        "    \"\"\"\n",
        "    Transforms nominal features to discrete values\n",
        "    \n",
        "    Returns:\n",
        "            X: the modified dataset      \n",
        "    \"\"\"\n",
        "    cat_cols= ['MSZoning', 'LandContour', 'LotConfig', 'Neighborhood', 'Condition1', 'Condition2', 'BldgType', 'HouseStyle', 'RoofStyle', 'RoofMatl', 'Exterior1st', 'Exterior2nd', 'MasVnrType', 'Foundation', \n",
        "                                                  'Heating', 'SaleType', 'SaleCondition']\n",
        "    for cat_col in cat_cols:\n",
        "      encoded, categories = pd.factorize(X[cat_col])\n",
        "      X[cat_col]= encoded\n",
        "    return X\n",
        "\n"
      ],
      "execution_count": 12,
      "outputs": []
    },
    {
      "cell_type": "code",
      "metadata": {
        "id": "akaUeQ0X8Pxg"
      },
      "source": [
        "\n",
        "class DropColumns(BaseEstimator, TransformerMixin):\n",
        "  def __init__(self, remove_cols = True):\n",
        "    self.remove_cols= remove_cols\n",
        "\n",
        "  def fit(self, X, y=None):\n",
        "    return self\n",
        "    \n",
        "  def transform(self, X, y=None):\n",
        "    \"\"\"\n",
        "    Deletes unwanted columns\n",
        "    \n",
        "    Returns:\n",
        "            X: the modified dataset      \n",
        "    \"\"\"\n",
        "    if self.remove_cols:\n",
        "      X.drop(['Id','GarageYrBlt','GarageCond', 'Utilities', 'Alley', 'MiscFeature', 'YearBuilt', 'YrSold', 'Street'], axis= 1, inplace= True)\n",
        "    return X\n"
      ],
      "execution_count": 13,
      "outputs": []
    },
    {
      "cell_type": "code",
      "metadata": {
        "id": "6uHdkURIsliu"
      },
      "source": [
        "X= train.drop('SalePrice', axis=1)\n",
        "y= train['SalePrice']\n",
        "X_train, X_valid, y_train, y_valid= train_test_split(X, y, test_size= 0.2, random_state= 2)"
      ],
      "execution_count": 14,
      "outputs": []
    },
    {
      "cell_type": "code",
      "metadata": {
        "id": "GXVVaXLPKxL1"
      },
      "source": [
        "transformer_pipeline= Pipeline(steps=[\n",
        "    ('transformer', TransformColumns()),\n",
        "    ('imputer', InputMissing()),\n",
        "    ('remove_skewness', RemoveSkewness()),\n",
        "    ('generate_features', GenerateFeatures()),\n",
        "    ('encoder', LabelEncode()),\n",
        "    ('remove_columns', DropColumns()),\n",
        "    ('scaler', StandardScaler())])"
      ],
      "execution_count": 15,
      "outputs": []
    },
    {
      "cell_type": "code",
      "metadata": {
        "id": "KjrvILsi7NCF"
      },
      "source": [
        "start = time.time()\n",
        "\n",
        "pipe_GBR= Pipeline(steps = [ ( 'transformer_list', transformer_pipeline),\n",
        "                                  \n",
        "                                  ( 'model', GradientBoostingRegressor(random_state= 300) ) ] )\n",
        "pipe_GBR.fit(X_train, y_train)\n",
        "\n",
        "GBR_training_time= time.time() - start"
      ],
      "execution_count": 16,
      "outputs": []
    },
    {
      "cell_type": "code",
      "metadata": {
        "id": "cP3F9UCv7wZI",
        "colab": {
          "base_uri": "https://localhost:8080/"
        },
        "outputId": "610ba696-ff30-4bb6-831e-ce98cec25489"
      },
      "source": [
        "start = time.time()\n",
        "y_pred_GBR = pipe_GBR.predict(X_valid)\n",
        "\n",
        "GBR_inference_time= time.time() - start\n",
        "\n",
        "rmse_GBR= mean_squared_error(np.log(y_valid), np.log(y_pred_GBR),  squared= False)\n",
        "print('Validation root mean squared error is', rmse_GBR)"
      ],
      "execution_count": 17,
      "outputs": [
        {
          "output_type": "stream",
          "name": "stdout",
          "text": [
            "Validation root mean squared error is 0.1291164006021158\n"
          ]
        }
      ]
    },
    {
      "cell_type": "markdown",
      "metadata": {
        "id": "bCBUBrHRTpSu"
      },
      "source": [
        "### **XGBoost**"
      ]
    },
    {
      "cell_type": "code",
      "metadata": {
        "colab": {
          "base_uri": "https://localhost:8080/"
        },
        "id": "m28T0s2RTlEu",
        "outputId": "f24ae7f2-4d89-40fc-83a5-c9535ef04cf7"
      },
      "source": [
        "processed_train= pd.read_csv('processed_train.csv')\n",
        "processed_test= pd.read_csv('processed_test.csv')\n",
        "train_scaled_features = StandardScaler().fit_transform(processed_train)\n",
        "test_scaled_features = StandardScaler().fit_transform(processed_test)\n",
        "X_train2, X_valid2, y_train2, y_valid2= train_test_split(train_scaled_features, y, test_size= 0.2, random_state= 2)\n",
        "\n",
        "start = time.time()\n",
        "\n",
        "XGB= XGBRegressor(n_estimators=1500, learning_rate = 0.01,max_depth= 4, random_state= 500)\n",
        "XGB.fit(X_train2, y_train2)\n",
        "\n",
        "XGB_training_time= time.time() - start"
      ],
      "execution_count": 18,
      "outputs": [
        {
          "output_type": "stream",
          "name": "stdout",
          "text": [
            "[14:52:28] WARNING: /workspace/src/objective/regression_obj.cu:152: reg:linear is now deprecated in favor of reg:squarederror.\n"
          ]
        }
      ]
    },
    {
      "cell_type": "code",
      "metadata": {
        "colab": {
          "base_uri": "https://localhost:8080/"
        },
        "id": "mxONY9EtTn67",
        "outputId": "97128b04-cadf-4877-fcb8-f1cf6d3f49d1"
      },
      "source": [
        "y_pred_XGB = XGB.predict(X_valid2)\n",
        "rmse_XGB= mean_squared_error(np.log(y_valid2), np.log(y_pred_XGB),  squared= False)\n",
        "print('Validation root mean squared error is', rmse_XGB)"
      ],
      "execution_count": 19,
      "outputs": [
        {
          "output_type": "stream",
          "name": "stdout",
          "text": [
            "Validation root mean squared error is 0.12076931060187188\n"
          ]
        }
      ]
    },
    {
      "cell_type": "code",
      "metadata": {
        "colab": {
          "base_uri": "https://localhost:8080/"
        },
        "id": "UMinHrVXBCJb",
        "outputId": "c2597a07-0bf0-42fb-9f8b-6ddd1d4252e8"
      },
      "source": [
        "\n",
        "XGB.fit(train_scaled_features, y)\n",
        "\n",
        "start = time.time()\n",
        "\n",
        "test_preds = XGB.predict(test_scaled_features)\n",
        "\n",
        "XGB_inference_time= time.time() - start"
      ],
      "execution_count": 20,
      "outputs": [
        {
          "output_type": "stream",
          "name": "stdout",
          "text": [
            "[14:52:43] WARNING: /workspace/src/objective/regression_obj.cu:152: reg:linear is now deprecated in favor of reg:squarederror.\n"
          ]
        }
      ]
    },
    {
      "cell_type": "code",
      "metadata": {
        "id": "wAOFBqYTe0bC",
        "colab": {
          "base_uri": "https://localhost:8080/",
          "height": 112
        },
        "outputId": "07b02fa8-5570-45ad-a1c9-eab8cbb71c22"
      },
      "source": [
        "results = pd.DataFrame({'Models':['Gradient Boosting Regressor','XGB'], 'Training time':[GBR_training_time, XGB_training_time], \n",
        "                          'Inference time':[GBR_inference_time, XGB_inference_time], 'rmse':[rmse_GBR, rmse_XGB]})\n",
        "results"
      ],
      "execution_count": 21,
      "outputs": [
        {
          "output_type": "execute_result",
          "data": {
            "text/html": [
              "<div>\n",
              "<style scoped>\n",
              "    .dataframe tbody tr th:only-of-type {\n",
              "        vertical-align: middle;\n",
              "    }\n",
              "\n",
              "    .dataframe tbody tr th {\n",
              "        vertical-align: top;\n",
              "    }\n",
              "\n",
              "    .dataframe thead th {\n",
              "        text-align: right;\n",
              "    }\n",
              "</style>\n",
              "<table border=\"1\" class=\"dataframe\">\n",
              "  <thead>\n",
              "    <tr style=\"text-align: right;\">\n",
              "      <th></th>\n",
              "      <th>Models</th>\n",
              "      <th>Training time</th>\n",
              "      <th>Inference time</th>\n",
              "      <th>rmse</th>\n",
              "    </tr>\n",
              "  </thead>\n",
              "  <tbody>\n",
              "    <tr>\n",
              "      <th>0</th>\n",
              "      <td>Gradient Boosting Regressor</td>\n",
              "      <td>1.078461</td>\n",
              "      <td>0.138325</td>\n",
              "      <td>0.129116</td>\n",
              "    </tr>\n",
              "    <tr>\n",
              "      <th>1</th>\n",
              "      <td>XGB</td>\n",
              "      <td>14.879725</td>\n",
              "      <td>0.090730</td>\n",
              "      <td>0.120769</td>\n",
              "    </tr>\n",
              "  </tbody>\n",
              "</table>\n",
              "</div>"
            ],
            "text/plain": [
              "                        Models  Training time  Inference time      rmse\n",
              "0  Gradient Boosting Regressor       1.078461        0.138325  0.129116\n",
              "1                          XGB      14.879725        0.090730  0.120769"
            ]
          },
          "metadata": {},
          "execution_count": 21
        }
      ]
    },
    {
      "cell_type": "code",
      "metadata": {
        "id": "Yrq3vSciAvO6"
      },
      "source": [
        "file = {'Id': test.iloc[:, 0], 'SalePrice': test_preds}\n",
        "\n",
        "submission = pd.DataFrame(file, columns = ['Id', 'SalePrice'])\n",
        "\n",
        "submission.to_csv('Iowa_pipeline_Submission4.csv', index = False)"
      ],
      "execution_count": 23,
      "outputs": []
    },
    {
      "cell_type": "markdown",
      "metadata": {
        "id": "t7yWGKP2lB8J"
      },
      "source": [
        "Although XGBRegressor took a longer time to train than GradientBoostingRegressor due to the number of estimators, however, the inference time is 31% faster than GradientBoostingRegressor with a better RMSE score. This achieved a RMSE score of 0.12842 on the leaderboard"
      ]
    }
  ]
}